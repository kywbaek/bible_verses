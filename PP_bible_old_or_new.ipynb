{
 "cells": [
  {
   "cell_type": "markdown",
   "metadata": {},
   "source": [
    "Bible verse classifier\n",
    "=========\n",
    "-----\n",
    "\n",
    "As a christian I was wondering if I could build a simple model that can classify a given verse to the right **Testament**.\n",
    "\n",
    "I found the [website](http://bibledatabase.com/bibles.html) where csv files for bible verse can be downloaeded. I wanted to use New International Version(NIV) for the model <BR>since my church uses it. But it was not available from the website since its text is Copyrighted. I chose to use King James Version (KJV) instead.\n",
    "\n",
    "(*I chose to build* ***Naive Bayes model*** *using machine learning platform* ***h2o***)"
   ]
  },
  {
   "cell_type": "code",
   "execution_count": 1,
   "metadata": {
    "collapsed": false
   },
   "outputs": [],
   "source": [
    "import pandas as pd\n",
    "import numpy as np\n",
    "import h2o\n",
    "\n",
    "from nltk.stem.snowball import SnowballStemmer\n",
    "from sklearn.feature_extraction.text import CountVectorizer\n",
    "from nltk.corpus import stopwords\n",
    "from collections import Counter\n",
    "\n",
    "import string\n",
    "\n",
    "import warnings\n",
    "warnings.filterwarnings(\"ignore\", category=DeprecationWarning)\n",
    "\n",
    "import matplotlib.pyplot as plt\n",
    "%matplotlib inline\n",
    "\n",
    "pd.set_option('display.max_colwidth', -1)"
   ]
  },
  {
   "cell_type": "markdown",
   "metadata": {},
   "source": [
    "We Define the file path and import the data into Pandas data frame.\n",
    "---\n",
    "The file downloaded from the website contains all the verses from King James Version bible.<BR>\n",
    "There are five columns <BR>\n",
    "* index number\n",
    "* book number - All books from the bible are numbered in order ( Genesis = 1, Exodus = 2, etc )\n",
    "* chapter number\n",
    "* verse number\n",
    "* actual text for verse\n",
    "\n",
    "We name each column as **index**, **book**, **chapter**, **verse**, and **text**, respectively."
   ]
  },
  {
   "cell_type": "code",
   "execution_count": 2,
   "metadata": {
    "collapsed": true
   },
   "outputs": [],
   "source": [
    "file_path = 'C:\\\\Users\\\\Young Wook\\\\Desktop\\\\stuffs\\\\DS\\\\projects\\\\bible\\\\b_kjv.txt'\n",
    "df_all = pd.read_csv(file_path,header = None,names = ['index','book','chapter','verse','text'], sep = '\\t')"
   ]
  },
  {
   "cell_type": "markdown",
   "metadata": {},
   "source": [
    "Let's look at some of the data.\n",
    "---\n",
    "There are 31103 verses and 66 books in total."
   ]
  },
  {
   "cell_type": "code",
   "execution_count": 3,
   "metadata": {
    "collapsed": false
   },
   "outputs": [
    {
     "data": {
      "text/html": [
       "<div>\n",
       "<table border=\"1\" class=\"dataframe\">\n",
       "  <thead>\n",
       "    <tr style=\"text-align: right;\">\n",
       "      <th></th>\n",
       "      <th>index</th>\n",
       "      <th>book</th>\n",
       "      <th>chapter</th>\n",
       "      <th>verse</th>\n",
       "      <th>text</th>\n",
       "    </tr>\n",
       "  </thead>\n",
       "  <tbody>\n",
       "    <tr>\n",
       "      <th>0</th>\n",
       "      <td>1</td>\n",
       "      <td>1</td>\n",
       "      <td>1</td>\n",
       "      <td>1</td>\n",
       "      <td>In the beginning God created the heaven and the earth.</td>\n",
       "    </tr>\n",
       "    <tr>\n",
       "      <th>1</th>\n",
       "      <td>2</td>\n",
       "      <td>1</td>\n",
       "      <td>1</td>\n",
       "      <td>2</td>\n",
       "      <td>And the earth was without form, and void; and darkness was upon the face of the deep. And the Spirit of God moved upon the face of the waters.</td>\n",
       "    </tr>\n",
       "    <tr>\n",
       "      <th>2</th>\n",
       "      <td>3</td>\n",
       "      <td>1</td>\n",
       "      <td>1</td>\n",
       "      <td>3</td>\n",
       "      <td>And God said, Let there be light: and there was light.</td>\n",
       "    </tr>\n",
       "    <tr>\n",
       "      <th>3</th>\n",
       "      <td>4</td>\n",
       "      <td>1</td>\n",
       "      <td>1</td>\n",
       "      <td>4</td>\n",
       "      <td>And God saw the light, that it was good: and God divided the light from the darkness.</td>\n",
       "    </tr>\n",
       "    <tr>\n",
       "      <th>4</th>\n",
       "      <td>5</td>\n",
       "      <td>1</td>\n",
       "      <td>1</td>\n",
       "      <td>5</td>\n",
       "      <td>And God called the light Day, and the darkness he called Night. And the evening and the morning were the first day.</td>\n",
       "    </tr>\n",
       "  </tbody>\n",
       "</table>\n",
       "</div>"
      ],
      "text/plain": [
       "   index  book  chapter  verse  \\\n",
       "0  1      1     1        1       \n",
       "1  2      1     1        2       \n",
       "2  3      1     1        3       \n",
       "3  4      1     1        4       \n",
       "4  5      1     1        5       \n",
       "\n",
       "                                                                                                                                             text  \n",
       "0  In the beginning God created the heaven and the earth.                                                                                          \n",
       "1  And the earth was without form, and void; and darkness was upon the face of the deep. And the Spirit of God moved upon the face of the waters.  \n",
       "2  And God said, Let there be light: and there was light.                                                                                          \n",
       "3  And God saw the light, that it was good: and God divided the light from the darkness.                                                           \n",
       "4  And God called the light Day, and the darkness he called Night. And the evening and the morning were the first day.                             "
      ]
     },
     "execution_count": 3,
     "metadata": {},
     "output_type": "execute_result"
    }
   ],
   "source": [
    "df_all.head()"
   ]
  },
  {
   "cell_type": "code",
   "execution_count": 4,
   "metadata": {
    "collapsed": false
   },
   "outputs": [
    {
     "data": {
      "text/html": [
       "<div>\n",
       "<table border=\"1\" class=\"dataframe\">\n",
       "  <thead>\n",
       "    <tr style=\"text-align: right;\">\n",
       "      <th></th>\n",
       "      <th>index</th>\n",
       "      <th>book</th>\n",
       "      <th>chapter</th>\n",
       "      <th>verse</th>\n",
       "      <th>text</th>\n",
       "    </tr>\n",
       "  </thead>\n",
       "  <tbody>\n",
       "    <tr>\n",
       "      <th>31098</th>\n",
       "      <td>31099</td>\n",
       "      <td>66</td>\n",
       "      <td>22</td>\n",
       "      <td>17</td>\n",
       "      <td>And the Spirit and the bride say, Come. And let him that heareth say, Come. And let him that is athirst come. And whosoever will, let him take the water of life freely.</td>\n",
       "    </tr>\n",
       "    <tr>\n",
       "      <th>31099</th>\n",
       "      <td>31100</td>\n",
       "      <td>66</td>\n",
       "      <td>22</td>\n",
       "      <td>18</td>\n",
       "      <td>For I testify unto every man that heareth the words of the prophecy of this book, If any man shall add unto these things, God shall add unto him the plagues that are written in this book:</td>\n",
       "    </tr>\n",
       "    <tr>\n",
       "      <th>31100</th>\n",
       "      <td>31101</td>\n",
       "      <td>66</td>\n",
       "      <td>22</td>\n",
       "      <td>19</td>\n",
       "      <td>And if any man shall take away from the words of the book of this prophecy, God shall take away his part out of the book of life, and out of the holy city, and from the things which are written in this book.</td>\n",
       "    </tr>\n",
       "    <tr>\n",
       "      <th>31101</th>\n",
       "      <td>31102</td>\n",
       "      <td>66</td>\n",
       "      <td>22</td>\n",
       "      <td>20</td>\n",
       "      <td>He which testifieth these things saith, Surely I come quickly. Amen. Even so, come, Lord Jesus.</td>\n",
       "    </tr>\n",
       "    <tr>\n",
       "      <th>31102</th>\n",
       "      <td>31103</td>\n",
       "      <td>66</td>\n",
       "      <td>22</td>\n",
       "      <td>21</td>\n",
       "      <td>The grace of our Lord Jesus Christ be with you all. Amen.</td>\n",
       "    </tr>\n",
       "  </tbody>\n",
       "</table>\n",
       "</div>"
      ],
      "text/plain": [
       "       index  book  chapter  verse  \\\n",
       "31098  31099  66    22       17      \n",
       "31099  31100  66    22       18      \n",
       "31100  31101  66    22       19      \n",
       "31101  31102  66    22       20      \n",
       "31102  31103  66    22       21      \n",
       "\n",
       "                                                                                                                                                                                                                  text  \n",
       "31098  And the Spirit and the bride say, Come. And let him that heareth say, Come. And let him that is athirst come. And whosoever will, let him take the water of life freely.                                         \n",
       "31099  For I testify unto every man that heareth the words of the prophecy of this book, If any man shall add unto these things, God shall add unto him the plagues that are written in this book:                      \n",
       "31100  And if any man shall take away from the words of the book of this prophecy, God shall take away his part out of the book of life, and out of the holy city, and from the things which are written in this book.  \n",
       "31101  He which testifieth these things saith, Surely I come quickly. Amen. Even so, come, Lord Jesus.                                                                                                                  \n",
       "31102  The grace of our Lord Jesus Christ be with you all. Amen.                                                                                                                                                        "
      ]
     },
     "execution_count": 4,
     "metadata": {},
     "output_type": "execute_result"
    }
   ],
   "source": [
    "#df_all.groupby(by='book').size()\n",
    "#df_all.count()\n",
    "df_all.tail()"
   ]
  },
  {
   "cell_type": "markdown",
   "metadata": {},
   "source": [
    "\"Index\" column makes this look confusing, so let's store a new data frame without it.\n",
    "---"
   ]
  },
  {
   "cell_type": "code",
   "execution_count": 5,
   "metadata": {
    "collapsed": false
   },
   "outputs": [
    {
     "data": {
      "text/html": [
       "<div>\n",
       "<table border=\"1\" class=\"dataframe\">\n",
       "  <thead>\n",
       "    <tr style=\"text-align: right;\">\n",
       "      <th></th>\n",
       "      <th>book</th>\n",
       "      <th>chapter</th>\n",
       "      <th>verse</th>\n",
       "      <th>text</th>\n",
       "    </tr>\n",
       "  </thead>\n",
       "  <tbody>\n",
       "    <tr>\n",
       "      <th>0</th>\n",
       "      <td>1</td>\n",
       "      <td>1</td>\n",
       "      <td>1</td>\n",
       "      <td>In the beginning God created the heaven and the earth.</td>\n",
       "    </tr>\n",
       "    <tr>\n",
       "      <th>1</th>\n",
       "      <td>1</td>\n",
       "      <td>1</td>\n",
       "      <td>2</td>\n",
       "      <td>And the earth was without form, and void; and darkness was upon the face of the deep. And the Spirit of God moved upon the face of the waters.</td>\n",
       "    </tr>\n",
       "    <tr>\n",
       "      <th>2</th>\n",
       "      <td>1</td>\n",
       "      <td>1</td>\n",
       "      <td>3</td>\n",
       "      <td>And God said, Let there be light: and there was light.</td>\n",
       "    </tr>\n",
       "    <tr>\n",
       "      <th>3</th>\n",
       "      <td>1</td>\n",
       "      <td>1</td>\n",
       "      <td>4</td>\n",
       "      <td>And God saw the light, that it was good: and God divided the light from the darkness.</td>\n",
       "    </tr>\n",
       "    <tr>\n",
       "      <th>4</th>\n",
       "      <td>1</td>\n",
       "      <td>1</td>\n",
       "      <td>5</td>\n",
       "      <td>And God called the light Day, and the darkness he called Night. And the evening and the morning were the first day.</td>\n",
       "    </tr>\n",
       "  </tbody>\n",
       "</table>\n",
       "</div>"
      ],
      "text/plain": [
       "   book  chapter  verse  \\\n",
       "0  1     1        1       \n",
       "1  1     1        2       \n",
       "2  1     1        3       \n",
       "3  1     1        4       \n",
       "4  1     1        5       \n",
       "\n",
       "                                                                                                                                             text  \n",
       "0  In the beginning God created the heaven and the earth.                                                                                          \n",
       "1  And the earth was without form, and void; and darkness was upon the face of the deep. And the Spirit of God moved upon the face of the waters.  \n",
       "2  And God said, Let there be light: and there was light.                                                                                          \n",
       "3  And God saw the light, that it was good: and God divided the light from the darkness.                                                           \n",
       "4  And God called the light Day, and the darkness he called Night. And the evening and the morning were the first day.                             "
      ]
     },
     "execution_count": 5,
     "metadata": {},
     "output_type": "execute_result"
    }
   ],
   "source": [
    "df = df_all.iloc[:,1:]\n",
    "df.head()"
   ]
  },
  {
   "cell_type": "markdown",
   "metadata": {},
   "source": [
    "Let's create response column.\n",
    "---\n",
    "Bible consists of 66 books with 39 from the Old Testament and 27 from the New Testament.<BR>\n",
    "We assign 0 to all the books from the Old Testament and 1 to the ones from the New Testament.<BR>\n",
    "And create a new column, **'testament'**."
   ]
  },
  {
   "cell_type": "code",
   "execution_count": 6,
   "metadata": {
    "collapsed": false
   },
   "outputs": [],
   "source": [
    "def testament_func(x):\n",
    "    if x <= 39: return 0\n",
    "    else: return 1\n",
    "\n",
    "df['testament'] = df['book'].apply(testament_func)"
   ]
  },
  {
   "cell_type": "markdown",
   "metadata": {},
   "source": [
    "Here is the distribution of verses by testaments.<BR>\n",
    "The old testament has about three times more verses than the new testament."
   ]
  },
  {
   "cell_type": "code",
   "execution_count": 7,
   "metadata": {
    "collapsed": false
   },
   "outputs": [
    {
     "data": {
      "text/plain": [
       "testament\n",
       "0    23145\n",
       "1    7958 \n",
       "dtype: int64"
      ]
     },
     "execution_count": 7,
     "metadata": {},
     "output_type": "execute_result"
    }
   ],
   "source": [
    "df['verse'].groupby([df['testament']]).count()"
   ]
  },
  {
   "cell_type": "code",
   "execution_count": 8,
   "metadata": {
    "collapsed": false
   },
   "outputs": [
    {
     "data": {
      "image/png": "[encoded data removed]",
      "text/plain": [
       "<matplotlib.figure.Figure at 0xb826780>"
      ]
     },
     "metadata": {},
     "output_type": "display_data"
    }
   ],
   "source": [
    "df['verse'].groupby([df['testament']]).count().plot(kind='bar')\n",
    "plt.ylabel('number of verses')\n",
    "plt.show()"
   ]
  },
  {
   "cell_type": "markdown",
   "metadata": {},
   "source": [
    "Now, we need a vocabulary list\n",
    "---\n",
    "I selected the terms I thought were significant for each testaments, and created the list with those terms. Total number of terms is 100."
   ]
  },
  {
   "cell_type": "code",
   "execution_count": 9,
   "metadata": {
    "collapsed": false
   },
   "outputs": [
    {
     "name": "stdout",
     "output_type": "stream",
     "text": [
      "69 + 31 = 100\n"
     ]
    }
   ],
   "source": [
    "old_testament_terms = ['adam','eve','noah','david','joshua','samuel','elijah','isaiah','abraham','jacob','solomon'\\\n",
    "                       ,'jeremiah','baal','israel','hebrew','messiah','altar','egypt','philistine','sarah','pharaoh'\\\n",
    "                      ,'babylon','elisha','prophet','levi','offering','king','isaac','rachel','leah','esau','reuben'\\\n",
    "                      ,'simeon','dan','daniel','naphtali','gad','asher','issachar','zebulun','dinah','benjamin'\\\n",
    "                      ,'tamar','ruth','job','goliath','gideon','jephthah','samson','eli','jonah','hosea','tent'\\\n",
    "                      ,'tabernacle','ark','covenant','ezra','nehemiah','esther','ezekiel','zechariah','abram','sarai'\\\n",
    "                      ,'aaron','miriam','cloud','firstborn','staff','command']\n",
    "new_testament_terms = ['jesus','pharisee','gentile','rome','paul','peter','john','mary','christ','cross','resurrect'\\\n",
    "                      ,'crucified','heaven','suffer','holy','prison','gospel','preach','apostle','teacher'\\\n",
    "                      ,'baptism','baptized','kingdom','parale','miracle','hosanna','sabbath','church','righteousness'\\\n",
    "                      ,'james','hallelujah']\n",
    "vocab = old_testament_terms + new_testament_terms\n",
    "print len(old_testament_terms),'+',len(new_testament_terms),'=',len(vocab)"
   ]
  },
  {
   "cell_type": "markdown",
   "metadata": {},
   "source": [
    "We craete a document-term matrix for the verses.\n",
    "---\n",
    "Let's use a simple CountVectorizer with our vocabulary list <BR>\n",
    "We import the matrix to pandas data frame and concatnate it with the response column."
   ]
  },
  {
   "cell_type": "code",
   "execution_count": 10,
   "metadata": {
    "collapsed": true
   },
   "outputs": [],
   "source": [
    "count_vectorizer = CountVectorizer( vocabulary = vocab )\n",
    "dtm = count_vectorizer.fit_transform(df.text).todense()"
   ]
  },
  {
   "cell_type": "code",
   "execution_count": 11,
   "metadata": {
    "collapsed": true
   },
   "outputs": [],
   "source": [
    "df_dtm = pd.DataFrame( data = dtm, columns = vocab )"
   ]
  },
  {
   "cell_type": "code",
   "execution_count": 12,
   "metadata": {
    "collapsed": true
   },
   "outputs": [],
   "source": [
    "df_final = pd.concat([df_dtm,df.testament], axis = 1)"
   ]
  },
  {
   "cell_type": "markdown",
   "metadata": {},
   "source": [
    "We convert pandas data frame to python dictionary to h2o data frame.\n",
    "---\n",
    "First, let's initialize h2o.<BR>\n",
    "Current version of h2o (3.8.1.3) doesn't support direct conversion from pandas data frame to h2o.<BR>"
   ]
  },
  {
   "cell_type": "code",
   "execution_count": 13,
   "metadata": {
    "collapsed": false
   },
   "outputs": [
    {
     "name": "stdout",
     "output_type": "stream",
     "text": [
      "\n",
      "\n",
      "No instance found at ip and port: localhost:54321. Trying to start local jar...\n",
      "\n",
      "\n",
      "JVM stdout: c:\\users\\youngw~1\\appdata\\local\\temp\\tmpn8zi7j\\h2o_Young_Wook_started_from_python.out\n",
      "JVM stderr: c:\\users\\youngw~1\\appdata\\local\\temp\\tmptn2zkv\\h2o_Young_Wook_started_from_python.err\n",
      "Using ice_root: c:\\users\\youngw~1\\appdata\\local\\temp\\tmpu7mnad\n",
      "\n",
      "\n",
      "Java Version: java version \"1.7.0_79\"\n",
      "Java(TM) SE Runtime Environment (build 1.7.0_79-b15)\n",
      "Java HotSpot(TM) 64-Bit Server VM (build 24.79-b02, mixed mode)\n",
      "\n",
      "\n",
      "Starting H2O JVM and connecting: . Connection successful!\n"
     ]
    },
    {
     "data": {
      "text/html": [
       "<div style=\"overflow:auto\"><table style=\"width:50%\"><tr><td>H2O cluster uptime: </td>\n",
       "<td>2 seconds 281 milliseconds </td></tr>\n",
       "<tr><td>H2O cluster version: </td>\n",
       "<td>3.8.1.3</td></tr>\n",
       "<tr><td>H2O cluster name: </td>\n",
       "<td>H2O_started_from_python_Young_Wook_vpr492</td></tr>\n",
       "<tr><td>H2O cluster total nodes: </td>\n",
       "<td>1</td></tr>\n",
       "<tr><td>H2O cluster total free memory: </td>\n",
       "<td>1.74 GB</td></tr>\n",
       "<tr><td>H2O cluster total cores: </td>\n",
       "<td>8</td></tr>\n",
       "<tr><td>H2O cluster allowed cores: </td>\n",
       "<td>8</td></tr>\n",
       "<tr><td>H2O cluster healthy: </td>\n",
       "<td>True</td></tr>\n",
       "<tr><td>H2O Connection ip: </td>\n",
       "<td>127.0.0.1</td></tr>\n",
       "<tr><td>H2O Connection port: </td>\n",
       "<td>54321</td></tr>\n",
       "<tr><td>H2O Connection proxy: </td>\n",
       "<td>None</td></tr>\n",
       "<tr><td>Python Version: </td>\n",
       "<td>2.7.11</td></tr></table></div>"
      ],
      "text/plain": [
       "------------------------------  -----------------------------------------\n",
       "H2O cluster uptime:             2 seconds 281 milliseconds\n",
       "H2O cluster version:            3.8.1.3\n",
       "H2O cluster name:               H2O_started_from_python_Young_Wook_vpr492\n",
       "H2O cluster total nodes:        1\n",
       "H2O cluster total free memory:  1.74 GB\n",
       "H2O cluster total cores:        8\n",
       "H2O cluster allowed cores:      8\n",
       "H2O cluster healthy:            True\n",
       "H2O Connection ip:              127.0.0.1\n",
       "H2O Connection port:            54321\n",
       "H2O Connection proxy:\n",
       "Python Version:                 2.7.11\n",
       "------------------------------  -----------------------------------------"
      ]
     },
     "metadata": {},
     "output_type": "display_data"
    }
   ],
   "source": [
    "h2o.init()"
   ]
  },
  {
   "cell_type": "code",
   "execution_count": 14,
   "metadata": {
    "collapsed": false
   },
   "outputs": [
    {
     "name": "stdout",
     "output_type": "stream",
     "text": [
      "\n",
      "Parse Progress: [##################################################] 100%\n"
     ]
    }
   ],
   "source": [
    "temp_dic = {}\n",
    "for key in df_final.keys():\n",
    "    temp_data = list(df_final[key].values)\n",
    "    temp_dic.update({key:temp_data})\n",
    "    \n",
    "data_hex = h2o.H2OFrame(temp_dic)"
   ]
  },
  {
   "cell_type": "markdown",
   "metadata": {},
   "source": [
    "Change data type for response column to 'category' and check if it is changed properly.<BR>\n",
    "-- 'asfactor' changes other data types to categorical type in h2o.<BR>\n",
    "-- Proper type for the response should be 'enum'."
   ]
  },
  {
   "cell_type": "code",
   "execution_count": 15,
   "metadata": {
    "collapsed": true
   },
   "outputs": [],
   "source": [
    "data_hex['testament'] = data_hex['testament'].asfactor()"
   ]
  },
  {
   "cell_type": "code",
   "execution_count": 16,
   "metadata": {
    "collapsed": false
   },
   "outputs": [
    {
     "data": {
      "text/plain": [
       "{'testament': 'enum'}"
      ]
     },
     "execution_count": 16,
     "metadata": {},
     "output_type": "execute_result"
    }
   ],
   "source": [
    "data_hex['testament'].types"
   ]
  },
  {
   "cell_type": "markdown",
   "metadata": {},
   "source": [
    "Store proper **features** and **response**."
   ]
  },
  {
   "cell_type": "code",
   "execution_count": 17,
   "metadata": {
    "collapsed": true
   },
   "outputs": [],
   "source": [
    "features = data_hex.names\n",
    "response = ('testament')\n",
    "features.remove(response)"
   ]
  },
  {
   "cell_type": "markdown",
   "metadata": {},
   "source": [
    "We split the data into train and test.\n",
    "---\n",
    "The verses are sorted in default so we need to shuffle first and split."
   ]
  },
  {
   "cell_type": "code",
   "execution_count": 18,
   "metadata": {
    "collapsed": true
   },
   "outputs": [],
   "source": [
    "random_idx = data_hex[response].runif(seed = 1234)\n",
    "train_hex = data_hex[ random_idx < 0.7 ]\n",
    "test_hex = data_hex[ random_idx >= 0.7 ]"
   ]
  },
  {
   "cell_type": "markdown",
   "metadata": {},
   "source": [
    "We build Naive Bayes model with train data.\n",
    "---\n",
    "Test data is used as a validation."
   ]
  },
  {
   "cell_type": "code",
   "execution_count": 19,
   "metadata": {
    "collapsed": false
   },
   "outputs": [
    {
     "name": "stdout",
     "output_type": "stream",
     "text": [
      "\n",
      "naivebayes Model Build Progress: [##################################################] 100%\n"
     ]
    }
   ],
   "source": [
    "nb_model_1 = h2o.naive_bayes( x = features, y = response, training_frame = train_hex, validation_frame = test_hex )"
   ]
  },
  {
   "cell_type": "markdown",
   "metadata": {},
   "source": [
    "Finally, let's check the performance of the model on test set.\n",
    "---"
   ]
  },
  {
   "cell_type": "code",
   "execution_count": 20,
   "metadata": {
    "collapsed": false
   },
   "outputs": [
    {
     "name": "stdout",
     "output_type": "stream",
     "text": [
      "\n",
      "Confusion Matrix (Act/Pred) for max f1 @ threshold = 0.999999411902: \n"
     ]
    },
    {
     "data": {
      "text/html": [
       "<div style=\"overflow:auto\"><table style=\"width:50%\"><tr><td><b></b></td>\n",
       "<td><b>0</b></td>\n",
       "<td><b>1</b></td>\n",
       "<td><b>Error</b></td>\n",
       "<td><b>Rate</b></td></tr>\n",
       "<tr><td>0</td>\n",
       "<td>1419.0</td>\n",
       "<td>5475.0</td>\n",
       "<td>0.7942</td>\n",
       "<td> (5475.0/6894.0)</td></tr>\n",
       "<tr><td>1</td>\n",
       "<td>149.0</td>\n",
       "<td>2192.0</td>\n",
       "<td>0.0636</td>\n",
       "<td> (149.0/2341.0)</td></tr>\n",
       "<tr><td>Total</td>\n",
       "<td>1568.0</td>\n",
       "<td>7667.0</td>\n",
       "<td>0.609</td>\n",
       "<td> (5624.0/9235.0)</td></tr></table></div>"
      ],
      "text/plain": [
       "       0     1     Error    Rate\n",
       "-----  ----  ----  -------  ---------------\n",
       "0      1419  5475  0.7942   (5475.0/6894.0)\n",
       "1      149   2192  0.0636   (149.0/2341.0)\n",
       "Total  1568  7667  0.609    (5624.0/9235.0)"
      ]
     },
     "metadata": {},
     "output_type": "display_data"
    },
    {
     "data": {
      "text/plain": []
     },
     "execution_count": 20,
     "metadata": {},
     "output_type": "execute_result"
    }
   ],
   "source": [
    "nb_model_1.model_performance( valid = True ).confusion_matrix()"
   ]
  },
  {
   "cell_type": "code",
   "execution_count": 21,
   "metadata": {
    "collapsed": false
   },
   "outputs": [
    {
     "data": {
      "text/plain": [
       "0.5687203998499522"
      ]
     },
     "execution_count": 21,
     "metadata": {},
     "output_type": "execute_result"
    }
   ],
   "source": [
    "nb_model_1.model_performance(valid = True).auc()"
   ]
  },
  {
   "cell_type": "markdown",
   "metadata": {},
   "source": [
    "Total error rate of 0.609 from the confusion matrix and AUC score of 0.569 look pretty bad.<BR>\n",
    "For a better result, let's build a better vocabulary list. We will \"stem\" all the words in the verses and count the frequency to get the list.\n",
    "\n",
    "\n",
    "We create another column for the text with stemmed words.\n",
    "---\n",
    "We first remove all the punctuations from the text, and then use SnowballStemmer to \"stem\" each word in all the verses.<BR>\n",
    "We do this by defining a function and apply it to a new column, **'split_stemmed'**.<BR>\n",
    "Also another column, **'stemmed'** is needed for a joined string of stemmed vocabularies."
   ]
  },
  {
   "cell_type": "code",
   "execution_count": 22,
   "metadata": {
    "collapsed": false
   },
   "outputs": [],
   "source": [
    "stemmer = SnowballStemmer('english')\n",
    "def stemmizer(text):\n",
    "    table = string.maketrans(\"\",\"\")\n",
    "    vocab_list = [ stemmer.stem(word) for word in (text.translate(table, string.punctuation)).split() ]\n",
    "    return vocab_list\n",
    "    \n",
    "df['split_stemmed'] = df['text'].apply(stemmizer)"
   ]
  },
  {
   "cell_type": "markdown",
   "metadata": {},
   "source": [
    "\"stopwords\" from nltk is used for removing stopwords."
   ]
  },
  {
   "cell_type": "code",
   "execution_count": 23,
   "metadata": {
    "collapsed": false
   },
   "outputs": [],
   "source": [
    "stop = set(stopwords.words('english'))\n",
    "df['split_stemmed'] = df['split_stemmed'].apply(lambda x: [x for x in x if x not in stop])\n",
    "df['stemmed'] = df['split_stemmed'].apply(lambda x: ' '.join(x))"
   ]
  },
  {
   "cell_type": "markdown",
   "metadata": {},
   "source": [
    "Let's take a look at the data with added columns.\n",
    "---"
   ]
  },
  {
   "cell_type": "code",
   "execution_count": 24,
   "metadata": {
    "collapsed": false
   },
   "outputs": [
    {
     "data": {
      "text/html": [
       "<div>\n",
       "<table border=\"1\" class=\"dataframe\">\n",
       "  <thead>\n",
       "    <tr style=\"text-align: right;\">\n",
       "      <th></th>\n",
       "      <th>book</th>\n",
       "      <th>chapter</th>\n",
       "      <th>verse</th>\n",
       "      <th>text</th>\n",
       "      <th>testament</th>\n",
       "      <th>split_stemmed</th>\n",
       "      <th>stemmed</th>\n",
       "    </tr>\n",
       "  </thead>\n",
       "  <tbody>\n",
       "    <tr>\n",
       "      <th>0</th>\n",
       "      <td>1</td>\n",
       "      <td>1</td>\n",
       "      <td>1</td>\n",
       "      <td>In the beginning God created the heaven and the earth.</td>\n",
       "      <td>0</td>\n",
       "      <td>[begin, god, creat, heaven, earth]</td>\n",
       "      <td>begin god creat heaven earth</td>\n",
       "    </tr>\n",
       "    <tr>\n",
       "      <th>1</th>\n",
       "      <td>1</td>\n",
       "      <td>1</td>\n",
       "      <td>2</td>\n",
       "      <td>And the earth was without form, and void; and darkness was upon the face of the deep. And the Spirit of God moved upon the face of the waters.</td>\n",
       "      <td>0</td>\n",
       "      <td>[earth, without, form, void, dark, upon, face, deep, spirit, god, move, upon, face, water]</td>\n",
       "      <td>earth without form void dark upon face deep spirit god move upon face water</td>\n",
       "    </tr>\n",
       "    <tr>\n",
       "      <th>2</th>\n",
       "      <td>1</td>\n",
       "      <td>1</td>\n",
       "      <td>3</td>\n",
       "      <td>And God said, Let there be light: and there was light.</td>\n",
       "      <td>0</td>\n",
       "      <td>[god, said, let, light, light]</td>\n",
       "      <td>god said let light light</td>\n",
       "    </tr>\n",
       "    <tr>\n",
       "      <th>3</th>\n",
       "      <td>1</td>\n",
       "      <td>1</td>\n",
       "      <td>4</td>\n",
       "      <td>And God saw the light, that it was good: and God divided the light from the darkness.</td>\n",
       "      <td>0</td>\n",
       "      <td>[god, saw, light, good, god, divid, light, dark]</td>\n",
       "      <td>god saw light good god divid light dark</td>\n",
       "    </tr>\n",
       "    <tr>\n",
       "      <th>4</th>\n",
       "      <td>1</td>\n",
       "      <td>1</td>\n",
       "      <td>5</td>\n",
       "      <td>And God called the light Day, and the darkness he called Night. And the evening and the morning were the first day.</td>\n",
       "      <td>0</td>\n",
       "      <td>[god, call, light, day, dark, call, night, even, morn, first, day]</td>\n",
       "      <td>god call light day dark call night even morn first day</td>\n",
       "    </tr>\n",
       "  </tbody>\n",
       "</table>\n",
       "</div>"
      ],
      "text/plain": [
       "   book  chapter  verse  \\\n",
       "0  1     1        1       \n",
       "1  1     1        2       \n",
       "2  1     1        3       \n",
       "3  1     1        4       \n",
       "4  1     1        5       \n",
       "\n",
       "                                                                                                                                             text  \\\n",
       "0  In the beginning God created the heaven and the earth.                                                                                           \n",
       "1  And the earth was without form, and void; and darkness was upon the face of the deep. And the Spirit of God moved upon the face of the waters.   \n",
       "2  And God said, Let there be light: and there was light.                                                                                           \n",
       "3  And God saw the light, that it was good: and God divided the light from the darkness.                                                            \n",
       "4  And God called the light Day, and the darkness he called Night. And the evening and the morning were the first day.                              \n",
       "\n",
       "   testament  \\\n",
       "0  0           \n",
       "1  0           \n",
       "2  0           \n",
       "3  0           \n",
       "4  0           \n",
       "\n",
       "                                                                                split_stemmed  \\\n",
       "0  [begin, god, creat, heaven, earth]                                                           \n",
       "1  [earth, without, form, void, dark, upon, face, deep, spirit, god, move, upon, face, water]   \n",
       "2  [god, said, let, light, light]                                                               \n",
       "3  [god, saw, light, good, god, divid, light, dark]                                             \n",
       "4  [god, call, light, day, dark, call, night, even, morn, first, day]                           \n",
       "\n",
       "                                                                       stemmed  \n",
       "0  begin god creat heaven earth                                                 \n",
       "1  earth without form void dark upon face deep spirit god move upon face water  \n",
       "2  god said let light light                                                     \n",
       "3  god saw light good god divid light dark                                      \n",
       "4  god call light day dark call night even morn first day                       "
      ]
     },
     "execution_count": 24,
     "metadata": {},
     "output_type": "execute_result"
    }
   ],
   "source": [
    "df.head()"
   ]
  },
  {
   "cell_type": "markdown",
   "metadata": {},
   "source": [
    "Now, for a \"better\" vocabulary list,\n",
    "---\n",
    "\n",
    "Let's create two seperates lists with all the vocabularies for old and new testaments. We use counter to get the most common vocabularies lists.<BR>\n",
    "Then, considering the distribution of the verses in the old and new testament, we remove some vocabularies."
   ]
  },
  {
   "cell_type": "code",
   "execution_count": 25,
   "metadata": {
    "collapsed": false
   },
   "outputs": [],
   "source": [
    "old, new = [], []\n",
    "for x in df[df.testament == 0].loc[:,'split_stemmed']: old += x\n",
    "for x in df[df.testament == 1].loc[:,'split_stemmed']: new += x\n",
    "count_old, count_new = Counter(old), Counter(new)\n",
    "most_old, most_new = count_old.most_common(125), count_new.most_common(75)"
   ]
  },
  {
   "cell_type": "code",
   "execution_count": 26,
   "metadata": {
    "collapsed": false
   },
   "outputs": [
    {
     "name": "stdout",
     "output_type": "stream",
     "text": [
      "96 + 45 = 141\n"
     ]
    }
   ],
   "source": [
    "old, new = [], []\n",
    "for x in most_old:\n",
    "    if x[0] not in [y[0] for y in most_new]: old.append(x[0])\n",
    "    else:\n",
    "        for i in most_new:\n",
    "            if (x[0] == i[0]) and (x[1] > (i[1]*3)): old.append(x[0])\n",
    "\n",
    "for x in most_new:\n",
    "    if x[0] not in [y[0] for y in most_old]: new.append(x[0])\n",
    "    else:\n",
    "        for i in most_old:\n",
    "            if (x[0] == i[0]) and ((x[1]*3) > i[1]): new.append(x[0])\n",
    "\n",
    "vocab = old + new\n",
    "print len(old),'+',len(new),'=',len(vocab)"
   ]
  },
  {
   "cell_type": "markdown",
   "metadata": {},
   "source": [
    "We create dtm with the new vocabulary list and repeat the same procedure.\n",
    "---"
   ]
  },
  {
   "cell_type": "code",
   "execution_count": 27,
   "metadata": {
    "collapsed": false
   },
   "outputs": [],
   "source": [
    "count_vectorizer = CountVectorizer( vocabulary = vocab )\n",
    "dtm = count_vectorizer.fit_transform( df.stemmed ).todense()"
   ]
  },
  {
   "cell_type": "code",
   "execution_count": 28,
   "metadata": {
    "collapsed": true
   },
   "outputs": [],
   "source": [
    "df_dtm = pd.DataFrame( data = dtm, columns = vocab )"
   ]
  },
  {
   "cell_type": "code",
   "execution_count": 29,
   "metadata": {
    "collapsed": true
   },
   "outputs": [],
   "source": [
    "df_final = pd.concat([df_dtm,df.testament], axis = 1)"
   ]
  },
  {
   "cell_type": "code",
   "execution_count": 30,
   "metadata": {
    "collapsed": false
   },
   "outputs": [
    {
     "name": "stdout",
     "output_type": "stream",
     "text": [
      "\n",
      "Parse Progress: [##################################################] 100%\n"
     ]
    }
   ],
   "source": [
    "temp_dic = {}\n",
    "for key in df_final.keys():\n",
    "    temp_data = list(df_final[key].values)\n",
    "    temp_dic.update({key:temp_data})\n",
    "    \n",
    "data_hex = h2o.H2OFrame(temp_dic)"
   ]
  },
  {
   "cell_type": "code",
   "execution_count": 31,
   "metadata": {
    "collapsed": true
   },
   "outputs": [],
   "source": [
    "data_hex['testament'] = data_hex['testament'].asfactor()"
   ]
  },
  {
   "cell_type": "code",
   "execution_count": 32,
   "metadata": {
    "collapsed": false
   },
   "outputs": [
    {
     "data": {
      "text/plain": [
       "{'testament': 'enum'}"
      ]
     },
     "execution_count": 32,
     "metadata": {},
     "output_type": "execute_result"
    }
   ],
   "source": [
    "data_hex['testament'].types"
   ]
  },
  {
   "cell_type": "code",
   "execution_count": 33,
   "metadata": {
    "collapsed": true
   },
   "outputs": [],
   "source": [
    "features = data_hex.names\n",
    "response = ('testament')\n",
    "features.remove(response)"
   ]
  },
  {
   "cell_type": "code",
   "execution_count": 34,
   "metadata": {
    "collapsed": true
   },
   "outputs": [],
   "source": [
    "random_idx = data_hex[response].runif(seed = 1234)\n",
    "train_hex = data_hex[ random_idx < 0.7 ]\n",
    "test_hex = data_hex[ random_idx >= 0.7 ]"
   ]
  },
  {
   "cell_type": "code",
   "execution_count": 35,
   "metadata": {
    "collapsed": false
   },
   "outputs": [
    {
     "name": "stdout",
     "output_type": "stream",
     "text": [
      "\n",
      "naivebayes Model Build Progress: [##################################################] 100%\n"
     ]
    }
   ],
   "source": [
    "nb_model_2 = h2o.naive_bayes( x = features, y = response, training_frame = train_hex, validation_frame = test_hex)"
   ]
  },
  {
   "cell_type": "code",
   "execution_count": 36,
   "metadata": {
    "collapsed": false
   },
   "outputs": [
    {
     "name": "stdout",
     "output_type": "stream",
     "text": [
      "\n",
      "Confusion Matrix (Act/Pred) for max f1 @ threshold = 0.874336773041: \n"
     ]
    },
    {
     "data": {
      "text/html": [
       "<div style=\"overflow:auto\"><table style=\"width:50%\"><tr><td><b></b></td>\n",
       "<td><b>0</b></td>\n",
       "<td><b>1</b></td>\n",
       "<td><b>Error</b></td>\n",
       "<td><b>Rate</b></td></tr>\n",
       "<tr><td>0</td>\n",
       "<td>5294.0</td>\n",
       "<td>1600.0</td>\n",
       "<td>0.2321</td>\n",
       "<td> (1600.0/6894.0)</td></tr>\n",
       "<tr><td>1</td>\n",
       "<td>758.0</td>\n",
       "<td>1583.0</td>\n",
       "<td>0.3238</td>\n",
       "<td> (758.0/2341.0)</td></tr>\n",
       "<tr><td>Total</td>\n",
       "<td>6052.0</td>\n",
       "<td>3183.0</td>\n",
       "<td>0.2553</td>\n",
       "<td> (2358.0/9235.0)</td></tr></table></div>"
      ],
      "text/plain": [
       "       0     1     Error    Rate\n",
       "-----  ----  ----  -------  ---------------\n",
       "0      5294  1600  0.2321   (1600.0/6894.0)\n",
       "1      758   1583  0.3238   (758.0/2341.0)\n",
       "Total  6052  3183  0.2553   (2358.0/9235.0)"
      ]
     },
     "metadata": {},
     "output_type": "display_data"
    },
    {
     "data": {
      "text/plain": []
     },
     "execution_count": 36,
     "metadata": {},
     "output_type": "execute_result"
    }
   ],
   "source": [
    "nb_model_2.model_performance(valid = True).confusion_matrix()"
   ]
  },
  {
   "cell_type": "code",
   "execution_count": 37,
   "metadata": {
    "collapsed": false
   },
   "outputs": [
    {
     "data": {
      "text/plain": [
       "0.7604350965688147"
      ]
     },
     "execution_count": 37,
     "metadata": {},
     "output_type": "execute_result"
    }
   ],
   "source": [
    "nb_model_2.model_performance(valid = True).auc()"
   ]
  },
  {
   "cell_type": "markdown",
   "metadata": {},
   "source": [
    "Total error rate of 0.255 from the confusion matrix and AUC score of 0.760 look much better than the previous ones.<BR>\n",
    "\n",
    "\n",
    "Let's try another vocabulary list. This time, we use CountVectorizer with a built-in stopwords for English to create the new vocabulary list. <BR>\n",
    "A maximum document frequency and a minimum document frequency are set up as 0.95 and 0.01, respectively.<BR>\n",
    "Then, the same procedure is repeated."
   ]
  },
  {
   "cell_type": "code",
   "execution_count": 38,
   "metadata": {
    "collapsed": false
   },
   "outputs": [],
   "source": [
    "count_vectorizer = CountVectorizer( stop_words = 'english', max_df = 0.95, min_df = 0.01 )\n",
    "dtm = count_vectorizer.fit_transform( df.stemmed ).todense()\n",
    "vocab = count_vectorizer.get_feature_names()"
   ]
  },
  {
   "cell_type": "code",
   "execution_count": 39,
   "metadata": {
    "collapsed": false
   },
   "outputs": [],
   "source": [
    "df_dtm = pd.DataFrame( data = dtm, columns = vocab )"
   ]
  },
  {
   "cell_type": "code",
   "execution_count": 40,
   "metadata": {
    "collapsed": false
   },
   "outputs": [],
   "source": [
    "df_final = pd.concat([df_dtm,df.testament], axis = 1)"
   ]
  },
  {
   "cell_type": "code",
   "execution_count": 41,
   "metadata": {
    "collapsed": false,
    "scrolled": true
   },
   "outputs": [
    {
     "name": "stdout",
     "output_type": "stream",
     "text": [
      "\n",
      "Parse Progress: [##################################################] 100%\n"
     ]
    }
   ],
   "source": [
    "temp_dic = {}\n",
    "for key in df_final.keys():\n",
    "    temp_data = list(df_final[key].values)\n",
    "    temp_dic.update({key:temp_data})\n",
    "    \n",
    "data_hex = h2o.H2OFrame(temp_dic)"
   ]
  },
  {
   "cell_type": "code",
   "execution_count": 42,
   "metadata": {
    "collapsed": true
   },
   "outputs": [],
   "source": [
    "data_hex['testament'] = data_hex['testament'].asfactor()"
   ]
  },
  {
   "cell_type": "code",
   "execution_count": 43,
   "metadata": {
    "collapsed": false
   },
   "outputs": [
    {
     "data": {
      "text/plain": [
       "{'testament': 'enum'}"
      ]
     },
     "execution_count": 43,
     "metadata": {},
     "output_type": "execute_result"
    }
   ],
   "source": [
    "data_hex['testament'].types"
   ]
  },
  {
   "cell_type": "code",
   "execution_count": 44,
   "metadata": {
    "collapsed": true
   },
   "outputs": [],
   "source": [
    "features = data_hex.names\n",
    "response = ('testament')\n",
    "features.remove(response)"
   ]
  },
  {
   "cell_type": "code",
   "execution_count": 45,
   "metadata": {
    "collapsed": false
   },
   "outputs": [],
   "source": [
    "random_idx = data_hex[response].runif(seed = 1234)\n",
    "train_hex = data_hex[ random_idx < 0.7 ]\n",
    "test_hex = data_hex[ random_idx >= 0.7 ]"
   ]
  },
  {
   "cell_type": "code",
   "execution_count": 46,
   "metadata": {
    "collapsed": false
   },
   "outputs": [
    {
     "name": "stdout",
     "output_type": "stream",
     "text": [
      "\n",
      "naivebayes Model Build Progress: [##################################################] 100%\n"
     ]
    }
   ],
   "source": [
    "nb_model_3 = h2o.naive_bayes( x = features, y = response, training_frame = train_hex, validation_frame = test_hex )"
   ]
  },
  {
   "cell_type": "code",
   "execution_count": 47,
   "metadata": {
    "collapsed": false
   },
   "outputs": [
    {
     "name": "stdout",
     "output_type": "stream",
     "text": [
      "\n",
      "Confusion Matrix (Act/Pred) for max f1 @ threshold = 0.999999855648: \n"
     ]
    },
    {
     "data": {
      "text/html": [
       "<div style=\"overflow:auto\"><table style=\"width:50%\"><tr><td><b></b></td>\n",
       "<td><b>0</b></td>\n",
       "<td><b>1</b></td>\n",
       "<td><b>Error</b></td>\n",
       "<td><b>Rate</b></td></tr>\n",
       "<tr><td>0</td>\n",
       "<td>4828.0</td>\n",
       "<td>2066.0</td>\n",
       "<td>0.2997</td>\n",
       "<td> (2066.0/6894.0)</td></tr>\n",
       "<tr><td>1</td>\n",
       "<td>576.0</td>\n",
       "<td>1765.0</td>\n",
       "<td>0.246</td>\n",
       "<td> (576.0/2341.0)</td></tr>\n",
       "<tr><td>Total</td>\n",
       "<td>5404.0</td>\n",
       "<td>3831.0</td>\n",
       "<td>0.2861</td>\n",
       "<td> (2642.0/9235.0)</td></tr></table></div>"
      ],
      "text/plain": [
       "       0     1     Error    Rate\n",
       "-----  ----  ----  -------  ---------------\n",
       "0      4828  2066  0.2997   (2066.0/6894.0)\n",
       "1      576   1765  0.246    (576.0/2341.0)\n",
       "Total  5404  3831  0.2861   (2642.0/9235.0)"
      ]
     },
     "metadata": {},
     "output_type": "display_data"
    },
    {
     "data": {
      "text/plain": []
     },
     "execution_count": 47,
     "metadata": {},
     "output_type": "execute_result"
    }
   ],
   "source": [
    "nb_model_3.model_performance( valid = True ).confusion_matrix()"
   ]
  },
  {
   "cell_type": "code",
   "execution_count": 48,
   "metadata": {
    "collapsed": false
   },
   "outputs": [
    {
     "data": {
      "text/plain": [
       "0.7466501338942654"
      ]
     },
     "execution_count": 48,
     "metadata": {},
     "output_type": "execute_result"
    }
   ],
   "source": [
    "nb_model_3.model_performance( valid = True ).auc()"
   ]
  },
  {
   "cell_type": "markdown",
   "metadata": {},
   "source": [
    "The second model actually performed slightly better. Therefor, in terms of AUC score, the second model is the \"best\" model out of the three.<BR>\n",
    "Let's plot a ROC curve for the second model.<BR>\n",
    "(The origin was missing from the set for some reason, so I had to manually add it) "
   ]
  },
  {
   "cell_type": "code",
   "execution_count": 49,
   "metadata": {
    "collapsed": false
   },
   "outputs": [
    {
     "name": "stdout",
     "output_type": "stream",
     "text": [
      "AUC score is 0.760435096569\n"
     ]
    },
    {
     "data": {
      "image/png": "[encoded data removed]",
      "text/plain": [
       "<matplotlib.figure.Figure at 0x416b5f8>"
      ]
     },
     "metadata": {},
     "output_type": "display_data"
    }
   ],
   "source": [
    "print 'AUC score is',nb_model_2.model_performance( valid = True ).auc()\n",
    "\n",
    "roc = nb_model_2.roc()\n",
    "tpr = [0.0] + roc[0]\n",
    "fpr = [0.0] + roc[1]\n",
    "\n",
    "plt.plot(tpr, fpr)\n",
    "plt.xlabel('False positive rate')\n",
    "plt.ylabel('True positive rate')\n",
    "plt.title('ROC curve')\n",
    "plt.show()"
   ]
  }
 ],
 "metadata": {
  "kernelspec": {
   "display_name": "Python 2",
   "language": "python",
   "name": "python2"
  },
  "language_info": {
   "codemirror_mode": {
    "name": "ipython",
    "version": 2
   },
   "file_extension": ".py",
   "mimetype": "text/x-python",
   "name": "python",
   "nbconvert_exporter": "python",
   "pygments_lexer": "ipython2",
   "version": "2.7.11"
  }
 },
 "nbformat": 4,
 "nbformat_minor": 0
}
